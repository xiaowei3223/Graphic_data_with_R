{
 "cells": [
  {
   "cell_type": "markdown",
   "metadata": {},
   "source": [
    "加载CSV文件最常用的方法"
   ]
  },
  {
   "cell_type": "raw",
   "metadata": {},
   "source": [
    "data <- read.csv(\"datafile.csv)\n",
    "#如果首行没有列名\n",
    "data <- read.csv(\"datafile.csv， header = FALSE)\n"
   ]
  },
  {
   "cell_type": "markdown",
   "metadata": {},
   "source": [
    "#可以用sep参数设置分隔符号，如果是空格分隔，使用 `sep = \" \"`; 如果是制表符分隔， 使用 `\\t`"
   ]
  },
  {
   "cell_type": "raw",
   "metadata": {},
   "source": [
    "data <- read.csv(\"datafile.csv, sep = \"\\t\")"
   ]
  },
  {
   "cell_type": "markdown",
   "metadata": {},
   "source": [
    "默认 情况下，数据集中的字符串会被是为因子（factor)处理。如果不需要作为因子来处理，则使用参数`stringsAsFactors = FALSE`"
   ]
  },
  {
   "cell_type": "markdown",
   "metadata": {},
   "source": [
    "加载Excel文件\n"
   ]
  },
  {
   "cell_type": "markdown",
   "metadata": {},
   "source": [
    "使用的是`xlsx`包， 读取Excel文件，代码如下："
   ]
  },
  {
   "cell_type": "raw",
   "metadata": {},
   "source": [
    "library(xslx)\n",
    "#读取第一工作表\n",
    "data <- read.xlsx(\"datafile.xlsx\", )\n",
    "#读取第二个工作表\n",
    "data <- read.xlsx(\"datafile.xlsx\", sheetIndex=2)\n",
    "#读取特定名称下的工作表\n",
    "data <- read.xlsx(\"datafile.xlsx\", sheetName = \"Revenues\")\n"
   ]
  },
  {
   "cell_type": "markdown",
   "metadata": {},
   "source": [
    "加载spss文件"
   ]
  },
  {
   "cell_type": "raw",
   "metadata": {},
   "source": [
    "library(foreign)\n",
    "data <- read.spss(\"datafile.sav\")"
   ]
  },
  {
   "cell_type": "code",
   "execution_count": null,
   "metadata": {},
   "outputs": [],
   "source": []
  }
 ],
 "metadata": {
  "kernelspec": {
   "display_name": "R",
   "language": "R",
   "name": "ir"
  },
  "language_info": {
   "codemirror_mode": "r",
   "file_extension": ".r",
   "mimetype": "text/x-r-source",
   "name": "R",
   "pygments_lexer": "r",
   "version": "3.6.1"
  },
  "toc": {
   "base_numbering": 1,
   "nav_menu": {},
   "number_sections": true,
   "sideBar": true,
   "skip_h1_title": false,
   "title_cell": "Table of Contents",
   "title_sidebar": "Contents",
   "toc_cell": false,
   "toc_position": {},
   "toc_section_display": true,
   "toc_window_display": false
  }
 },
 "nbformat": 4,
 "nbformat_minor": 2
}
